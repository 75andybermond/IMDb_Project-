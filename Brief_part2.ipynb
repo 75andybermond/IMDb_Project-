{
 "cells": [
  {
   "cell_type": "code",
   "execution_count": 2,
   "metadata": {},
   "outputs": [],
   "source": [
    "import numpy as np\n",
    "import pandas as pd\n",
    "import matplotlib.pyplot as plt\n",
    "import warnings\n",
    "warnings.filterwarnings('ignore')\n",
    "plt.style.use('ggplot')\n",
    "\n",
    "import tensorflow as tf\n",
    "\n",
    "from keras import models, regularizers, layers, optimizers, losses, metrics\n",
    "from keras.models import Sequential\n",
    "from keras.layers import Dense\n",
    "from keras.utils import np_utils, to_categorical, pad_sequences\n",
    "import keras \n",
    "from keras.datasets import imdb\n",
    "\n",
    "from sklearn.metrics import confusion_matrix\n",
    "import seaborn as sns"
   ]
  },
  {
   "cell_type": "code",
   "execution_count": 3,
   "metadata": {},
   "outputs": [],
   "source": [
    "### Load the data\n",
    "(train_samples, train_labels), (test_samples, test_labels) = imdb.load_data(num_words=10000)"
   ]
  },
  {
   "cell_type": "code",
   "execution_count": 4,
   "metadata": {},
   "outputs": [
    {
     "data": {
      "text/plain": [
       "\"<START> this has to be one of the worst films of the 1990s when my friends i were watching this film being the target audience it was aimed at we just sat watched the first half an hour with our jaws touching the floor at how bad it really was the rest of the time everyone else in the theatre just started talking to each other leaving or generally crying into their popcorn that they actually paid money they had <UNK> working to watch this feeble excuse for a film it must have looked like a great idea on paper but on film it looks like no one in the film has a clue what is going on crap acting crap costumes i can't get across how <UNK> this is to watch save yourself an hour a bit of your life\""
      ]
     },
     "execution_count": 4,
     "metadata": {},
     "output_type": "execute_result"
    }
   ],
   "source": [
    "# A dictionary mapping words to an integer index\n",
    "vocabulary = imdb.get_word_index()\n",
    "\n",
    "# The first indices are reserved\n",
    "vocabulary = {k:(v+3) for k,v in vocabulary.items()} \n",
    "vocabulary[\"<PAD>\"] = 0\n",
    "# See how integer 1 appears first in the review above. \n",
    "vocabulary[\"<START>\"] = 1\n",
    "vocabulary[\"<UNK>\"] = 2  # unknown\n",
    "vocabulary[\"<UNUSED>\"] = 3\n",
    "\n",
    "# reversing the vocabulary. \n",
    "# in the index, the key is an integer, \n",
    "# and the value is the corresponding word.\n",
    "index = dict([(value, key) for (key, value) in vocabulary.items()])\n",
    "\n",
    "# reversing the vocabulary. \n",
    "# in the index, the key is an integer, \n",
    "# and the value is the corresponding word.\n",
    "\n",
    "def decode_review(text):\n",
    "    '''converts encoded text to human readable form.\n",
    "    each integer in the text is looked up in the index, and \n",
    "    replaced by the corresponding word.\n",
    "    '''\n",
    "    return ' '.join([index.get(i, '?') for i in text])\n",
    "\n",
    "decode_review(train_samples[2])\n"
   ]
  },
  {
   "attachments": {},
   "cell_type": "markdown",
   "metadata": {},
   "source": [
    "### Preprocess "
   ]
  },
  {
   "cell_type": "code",
   "execution_count": 5,
   "metadata": {},
   "outputs": [],
   "source": [
    "# PAD the sequences to the same length\n",
    "# Padding is necessary because the input data must be a uniform length.\n",
    "# It consists of adding a special character to the end of the sequence until it reaches the desired length.\n",
    "\n",
    "train_data = tf.keras.preprocessing.sequence.pad_sequences(train_samples,\n",
    "                                                        value=vocabulary[\"<PAD>\"],\n",
    "                                                        padding='post',\n",
    "                                                        maxlen=256)\n",
    "\n",
    "test_data = tf.keras.preprocessing.sequence.pad_sequences(test_samples,\n",
    "                                                       value=vocabulary[\"<PAD>\"],\n",
    "                                                       padding='post',\n",
    "                                                       maxlen=256)"
   ]
  },
  {
   "cell_type": "code",
   "execution_count": 6,
   "metadata": {},
   "outputs": [
    {
     "name": "stdout",
     "output_type": "stream",
     "text": [
      "y_train  (25000,)\n",
      "y_test  (25000,)\n",
      "x_val  (10000, 256)\n",
      "partial_x_train  (15000, 256)\n",
      "y_val  (10000,)\n",
      "partial_y_train  (15000,)\n",
      "x_test  (25000, 256)\n",
      "y_test  (25000,)\n"
     ]
    }
   ],
   "source": [
    "# Set a VALIDATION set\n",
    "y_train = np.asarray(train_labels).astype('float32')\n",
    "y_test = np.asarray(test_labels).astype('float32')\n",
    "print(\"y_train \", y_train.shape)\n",
    "print(\"y_test \", y_test.shape)\n",
    "\n",
    "# Set a VALIDATION set\n",
    "\n",
    "x_val = train_data[:10000]\n",
    "partial_x_train = train_data[10000:]\n",
    "y_val = y_train[:10000]\n",
    "partial_y_train = y_train[10000:]\n",
    "\n",
    "x_test = test_data\n",
    "print(\"x_val \", x_val.shape)\n",
    "print(\"partial_x_train \", partial_x_train.shape)\n",
    "print(\"y_val \", y_val.shape)\n",
    "print(\"partial_y_train \", partial_y_train.shape)\n",
    "\n",
    "\n",
    "print(\"x_test \", x_test.shape)\n",
    "print(\"y_test \", y_test.shape)"
   ]
  },
  {
   "cell_type": "code",
   "execution_count": 7,
   "metadata": {},
   "outputs": [
    {
     "data": {
      "text/plain": [
       "88588"
      ]
     },
     "execution_count": 7,
     "metadata": {},
     "output_type": "execute_result"
    }
   ],
   "source": [
    "len(vocabulary)"
   ]
  },
  {
   "attachments": {},
   "cell_type": "markdown",
   "metadata": {},
   "source": [
    "### Model Implim"
   ]
  },
  {
   "cell_type": "code",
   "execution_count": 8,
   "metadata": {},
   "outputs": [
    {
     "name": "stdout",
     "output_type": "stream",
     "text": [
      "Model: \"sequential\"\n",
      "_________________________________________________________________\n",
      " Layer (type)                Output Shape              Param #   \n",
      "=================================================================\n",
      " embedding (Embedding)       (None, 256, 2)            177176    \n",
      "                                                                 \n",
      " flatten (Flatten)           (None, 512)               0         \n",
      "                                                                 \n",
      " dropout (Dropout)           (None, 512)               0         \n",
      "                                                                 \n",
      " dense (Dense)               (None, 5)                 2565      \n",
      "                                                                 \n",
      " dense_1 (Dense)             (None, 1)                 6         \n",
      "                                                                 \n",
      "=================================================================\n",
      "Total params: 179,747\n",
      "Trainable params: 179,747\n",
      "Non-trainable params: 0\n",
      "_________________________________________________________________\n"
     ]
    }
   ],
   "source": [
    "model = keras.Sequential()\n",
    "# The Embedding layer takes at least two arguments:\n",
    "# the number of possible tokens, here 88588 and input_length, the length of the input sequences, here 256.\n",
    "model.add(keras.layers.Embedding(len(vocabulary), 2, input_length=256))\n",
    "model.add(keras.layers.Flatten())\n",
    "model.add(keras.layers.Dropout(rate=0.5))\n",
    "model.add(keras.layers.Dense(5))\n",
    "model.add(keras.layers.Dense(1, activation='sigmoid'))\n",
    "model.summary()"
   ]
  },
  {
   "cell_type": "code",
   "execution_count": 9,
   "metadata": {},
   "outputs": [
    {
     "name": "stdout",
     "output_type": "stream",
     "text": [
      "Epoch 1/50\n",
      "150/150 [==============================] - 3s 13ms/step - loss: 0.6930 - acc: 0.5141 - val_loss: 0.6917 - val_acc: 0.5284\n",
      "Epoch 2/50\n",
      "150/150 [==============================] - 2s 14ms/step - loss: 0.6585 - acc: 0.6402 - val_loss: 0.5839 - val_acc: 0.7355\n",
      "Epoch 3/50\n",
      "150/150 [==============================] - 2s 11ms/step - loss: 0.4530 - acc: 0.8052 - val_loss: 0.3723 - val_acc: 0.8528\n",
      "Epoch 4/50\n",
      "150/150 [==============================] - 2s 10ms/step - loss: 0.3218 - acc: 0.8705 - val_loss: 0.3179 - val_acc: 0.8697\n",
      "Epoch 5/50\n",
      "150/150 [==============================] - 2s 12ms/step - loss: 0.2760 - acc: 0.8874 - val_loss: 0.3004 - val_acc: 0.8757\n",
      "Epoch 6/50\n",
      "150/150 [==============================] - 2s 12ms/step - loss: 0.2395 - acc: 0.9045 - val_loss: 0.2896 - val_acc: 0.8831\n",
      "Epoch 7/50\n",
      "150/150 [==============================] - 2s 10ms/step - loss: 0.2188 - acc: 0.9129 - val_loss: 0.2851 - val_acc: 0.8840\n",
      "Epoch 8/50\n",
      "150/150 [==============================] - 2s 11ms/step - loss: 0.2005 - acc: 0.9220 - val_loss: 0.2879 - val_acc: 0.8850\n",
      "Epoch 9/50\n",
      "150/150 [==============================] - 2s 11ms/step - loss: 0.1961 - acc: 0.9203 - val_loss: 0.2923 - val_acc: 0.8834\n",
      "Epoch 10/50\n",
      "150/150 [==============================] - 2s 11ms/step - loss: 0.1850 - acc: 0.9271 - val_loss: 0.2939 - val_acc: 0.8829\n",
      "Epoch 11/50\n",
      "150/150 [==============================] - 2s 11ms/step - loss: 0.1704 - acc: 0.9335 - val_loss: 0.2996 - val_acc: 0.8817\n",
      "Epoch 12/50\n",
      "150/150 [==============================] - 2s 12ms/step - loss: 0.1648 - acc: 0.9344 - val_loss: 0.3081 - val_acc: 0.8788\n",
      "Epoch 13/50\n",
      "150/150 [==============================] - 2s 13ms/step - loss: 0.1575 - acc: 0.9349 - val_loss: 0.3124 - val_acc: 0.8810\n",
      "Epoch 14/50\n",
      "150/150 [==============================] - 2s 14ms/step - loss: 0.1525 - acc: 0.9390 - val_loss: 0.3204 - val_acc: 0.8784\n",
      "Epoch 15/50\n",
      "150/150 [==============================] - 2s 13ms/step - loss: 0.1489 - acc: 0.9397 - val_loss: 0.3315 - val_acc: 0.8730\n",
      "Epoch 16/50\n",
      "150/150 [==============================] - ETA: 0s - loss: 0.1449 - acc: 0.9422Restoring model weights from the end of the best epoch: 6.\n",
      "150/150 [==============================] - 2s 13ms/step - loss: 0.1449 - acc: 0.9422 - val_loss: 0.3358 - val_acc: 0.8726\n",
      "Epoch 16: early stopping\n"
     ]
    }
   ],
   "source": [
    "from keras.callbacks import EarlyStopping\n",
    "\n",
    "# Epochs and Batch Size \n",
    "# Epochs is the number of times the model is exposed to the training dataset.\n",
    "# Batch Size is the number of samples per gradient update for training.\n",
    "NumEpochs = 50\n",
    "BatchSize = 100\n",
    "\n",
    "model.compile(optimizer='adam', loss='binary_crossentropy', metrics=['acc'])\n",
    "\n",
    "# define early stopping criteria\n",
    "earlystop = EarlyStopping(monitor='val_acc', min_delta=0.01, patience=10, verbose=1, mode='auto', baseline=None, restore_best_weights=True)\n",
    "\n",
    "history = model.fit(partial_x_train , partial_y_train, epochs=NumEpochs, batch_size=BatchSize, validation_data=(x_val, y_val), callbacks=[earlystop])\n"
   ]
  },
  {
   "attachments": {},
   "cell_type": "markdown",
   "metadata": {},
   "source": [
    "### Model eval "
   ]
  },
  {
   "cell_type": "code",
   "execution_count": 10,
   "metadata": {},
   "outputs": [
    {
     "name": "stdout",
     "output_type": "stream",
     "text": [
      "782/782 [==============================] - 4s 4ms/step - loss: 0.3036 - acc: 0.8728\n",
      "____________________________________________________________________________________________________\n",
      "Test Loss and Accuracy\n",
      "results  [0.30357030034065247, 0.872759997844696]\n"
     ]
    },
    {
     "data": {
      "text/plain": [
       "dict_keys(['loss', 'acc', 'val_loss', 'val_acc'])"
      ]
     },
     "execution_count": 10,
     "metadata": {},
     "output_type": "execute_result"
    }
   ],
   "source": [
    "results = model.evaluate(x_test, y_test)\n",
    "print(\"_\"*100)\n",
    "print(\"Test Loss and Accuracy\")\n",
    "print(\"results \", results)\n",
    "history_dict = history.history\n",
    "history_dict.keys()"
   ]
  },
  {
   "cell_type": "code",
   "execution_count": 11,
   "metadata": {},
   "outputs": [
    {
     "name": "stdout",
     "output_type": "stream",
     "text": [
      "782/782 [==============================] - 3s 3ms/step\n",
      "782/782 [==============================] - 3s 3ms/step\n"
     ]
    },
    {
     "data": {
      "image/png": "[encoded data removed]",
      "text/plain": [
       "<Figure size 640x480 with 1 Axes>"
      ]
     },
     "metadata": {},
     "output_type": "display_data"
    }
   ],
   "source": [
    "import sklearn.metrics as metrics\n",
    "\n",
    "y_pred = model.predict(x_test)\n",
    "y_pred_proba = y_pred.ravel()  # Reshape to 1-dimensional array\n",
    "# Make predictions on the test set\n",
    "y_pred = model.predict(x_test)\n",
    "y_test = y_test.ravel()  # Reshape to 1-dimensional array\n",
    "\n",
    "# Calculate the false positive rate, true positive rate, and thresholds\n",
    "fpr, tpr, thresholds = metrics.roc_curve(y_test, y_pred_proba)\n",
    "\n",
    "# Calculate the area under the ROC curve (AUC)\n",
    "roc_auc = metrics.auc(fpr, tpr)\n",
    "\n",
    "# Plot the ROC curve\n",
    "import matplotlib.pyplot as plt\n",
    "plt.title('ROC Curve')\n",
    "plt.plot(fpr, tpr, 'b', label='AUC = %0.2f' % roc_auc)\n",
    "plt.legend(loc='lower right')\n",
    "plt.plot([0, 1], [0, 1],'r--')\n",
    "plt.xlim([0, 1])\n",
    "plt.ylim([0, 1])\n",
    "plt.ylabel('True Positive Rate')\n",
    "plt.xlabel('False Positive Rate')\n",
    "plt.show()\n"
   ]
  },
  {
   "cell_type": "code",
   "execution_count": 12,
   "metadata": {},
   "outputs": [
    {
     "name": "stdout",
     "output_type": "stream",
     "text": [
      "782/782 [==============================] - 3s 4ms/step\n"
     ]
    },
    {
     "data": {
      "text/plain": [
       "<Axes: >"
      ]
     },
     "execution_count": 12,
     "metadata": {},
     "output_type": "execute_result"
    },
    {
     "data": {
      "image/png": "[encoded data removed]",
      "text/plain": [
       "<Figure size 640x480 with 2 Axes>"
      ]
     },
     "metadata": {},
     "output_type": "display_data"
    }
   ],
   "source": [
    "# Confusion matrix \n",
    "\n",
    "y_test_predictions = model.predict(x_test)\n",
    "y_test_predictions = (y_test_predictions > 0.5)\n",
    "\n",
    "conf_matrix = confusion_matrix(y_test, y_test_predictions)\n",
    "\n",
    "# Display the confusion matrix as a heatmap\n",
    "sns.heatmap(conf_matrix, annot=True, fmt='d', cmap='Blues')"
   ]
  },
  {
   "attachments": {},
   "cell_type": "markdown",
   "metadata": {},
   "source": [
    "### Test on new review written by us"
   ]
  },
  {
   "cell_type": "code",
   "execution_count": 16,
   "metadata": {},
   "outputs": [
    {
     "name": "stdout",
     "output_type": "stream",
     "text": [
      "1/1 [==============================] - 0s 75ms/step\n",
      "The sentiment of review 'This movie was terrible! The acting was wooden and the plot was nonsensical. I regret wasting my time and money on it' is negative.\n",
      "The sentiment of review 'I had high hopes for this movie, but it was a huge disappointment. The pacing was slow and the characters were uninteresting. Save yourself the trouble and skip this one.' is negative.\n",
      "The sentiment of review 'I absolutely loved this movie! The performances were outstanding and the story was gripping from start to finish. I can't wait to see it again.\" Positive review: \"This movie was a breath of fresh air! It was funny, heartwarming, and thought-provoking all at once. I left the theater feeling uplifted and inspired' is positive.\n",
      "The sentiment of review 'I was blown away by this movie! The cinematography was stunning and the music was hauntingly beautiful. The acting was also top-notch. I highly recommend it to anyone who appreciates great storytelling' is positive.\n",
      "The sentiment of review 'Although the plot was interesting, the execution was poor. The pacing was slow and the acting was wooden. However, the cinematography was beautiful and some scenes were visually stunning.' is negative.\n"
     ]
    }
   ],
   "source": [
    "# Take 5 input reviews \n",
    "reviews = []\n",
    "for i in range(5):\n",
    "    review = input(\"Enter review \" + str(i+1) + \": \")\n",
    "    reviews.append(review)\n",
    "\n",
    "# Convert the reviews to sequences of integers using the word index\n",
    "review_seqs = []\n",
    "for review in reviews:\n",
    "    review_seq = [vocabulary.get(word, vocabulary[\"<UNK>\"]) for word in review.lower().split()]\n",
    "    review_seqs.append(review_seq)\n",
    "\n",
    "# Pad the sequences to the same length as the training data\n",
    "review_seqs_padded = tf.keras.preprocessing.sequence.pad_sequences(review_seqs,\n",
    "                                                                    value=vocabulary[\"<PAD>\"],\n",
    "                                                                    padding='post',\n",
    "                                                                    maxlen=256)\n",
    "\n",
    "# Make predictions using the trained model\n",
    "predictions = model.predict(review_seqs_padded)\n",
    "\n",
    "# Convert the predictions to human-readable labels\n",
    "sentiments = []\n",
    "for prediction in predictions:\n",
    "    sentiment = \"positive\" if prediction[0] > 0.5 else \"negative\"\n",
    "    sentiments.append(sentiment)\n",
    "\n",
    "# Print the input review and its predicted sentiment\n",
    "for i in range(5):\n",
    "    print(f\"The sentiment of review '{reviews[i]}' is {sentiments[i]}.\")\n"
   ]
  },
  {
   "cell_type": "code",
   "execution_count": 20,
   "metadata": {},
   "outputs": [
    {
     "data": {
      "text/plain": [
       "['This movie was terrible! The acting was wooden and the plot was nonsensical. I regret wasting my time and money on it',\n",
       " 'I had high hopes for this movie, but it was a huge disappointment. The pacing was slow and the characters were uninteresting. Save yourself the trouble and skip this one.',\n",
       " 'I absolutely loved this movie! The performances were outstanding and the story was gripping from start to finish. I can\\'t wait to see it again.\" Positive review: \"This movie was a breath of fresh air! It was funny, heartwarming, and thought-provoking all at once. I left the theater feeling uplifted and inspired',\n",
       " 'I was blown away by this movie! The cinematography was stunning and the music was hauntingly beautiful. The acting was also top-notch. I highly recommend it to anyone who appreciates great storytelling',\n",
       " 'Although the plot was interesting, the execution was poor. The pacing was slow and the acting was wooden. However, the cinematography was beautiful and some scenes were visually stunning.']"
      ]
     },
     "execution_count": 20,
     "metadata": {},
     "output_type": "execute_result"
    }
   ],
   "source": []
  },
  {
   "attachments": {},
   "cell_type": "markdown",
   "metadata": {},
   "source": [
    "### GLOVE"
   ]
  },
  {
   "cell_type": "code",
   "execution_count": 22,
   "metadata": {},
   "outputs": [],
   "source": [
    "import numpy as np\n",
    "import tensorflow as tf\n",
    "from keras.models import Sequential\n",
    "from keras.layers import Dense, Dropout, Embedding, Flatten, GlobalMaxPooling1D, Conv1D\n",
    "from keras.callbacks import EarlyStopping\n",
    "from keras.preprocessing.text import Tokenizer\n",
    "from keras.utils import np_utils, to_categorical, pad_sequences\n",
    "from gensim.scripts.glove2word2vec import glove2word2vec\n",
    "from gensim.models import KeyedVectors\n",
    "\n",
    "# Load the data\n",
    "(train_samples, train_labels), (test_samples, test_labels) = imdb.load_data(num_words=10000)\n",
    "\n",
    "# Convert the data back into text for tokenization\n",
    "word_index = imdb.get_word_index()\n",
    "reverse_word_index = dict([(value, key) for (key, value) in word_index.items()])\n",
    "decoded_train_samples = [' '.join([reverse_word_index.get(i - 3, '?') for i in sample]) for sample in train_samples]\n",
    "decoded_test_samples = [' '.join([reverse_word_index.get(i - 3, '?') for i in sample]) for sample in test_samples]\n",
    "\n",
    "# Tokenize the text data\n",
    "tokenizer = Tokenizer(num_words=10000)\n",
    "tokenizer.fit_on_texts(decoded_train_samples)\n",
    "sequences_train = tokenizer.texts_to_sequences(decoded_train_samples)\n",
    "sequences_test = tokenizer.texts_to_sequences(decoded_test_samples)\n",
    "\n",
    "# Pad the sequences to the same length\n",
    "train_data = pad_sequences(sequences_train, maxlen=256)\n",
    "test_data = pad_sequences(sequences_test, maxlen=256)\n",
    "\n",
    "# Prepare the labels\n",
    "y_train = np.asarray(train_labels).astype('float32')\n",
    "y_test = np.asarray(test_labels).astype('float32')\n",
    "\n",
    "# Load the pre-trained GloVe embeddings\n",
    "glove_input_file = 'glove.6B.100d.txt'\n",
    "word2vec_output_file = 'glove.6B.100d.word2vec.txt'\n",
    "glove2word2vec(glove_input_file, word2vec_output_file)\n",
    "embeddings_index = KeyedVectors.load_word2vec_format(word2vec_output_file, binary=False)\n",
    "\n",
    "# Create the embedding matrix\n",
    "embedding_matrix = np.zeros((10000, 100))\n",
    "for word, i in tokenizer.word_index.items():\n",
    "    if i >= 10000:\n",
    "        continue\n",
    "    try:\n",
    "        embedding_vector = embeddings_index[word]\n",
    "    except KeyError:\n",
    "        embedding_vector = None\n",
    "    if embedding_vector is not None:\n",
    "        embedding_matrix[i] = embedding_vector\n",
    "\n",
    "# Define the model architecture\n",
    "model = Sequential()\n",
    "model.add(Embedding(10000, 100, input_length=256))\n",
    "model.add(Conv1D(128, 5, activation='relu'))\n",
    "model.add(GlobalMaxPooling1D())\n",
    "model.add(Dense(64, activation='relu'))\n",
    "model.add(Dense(1, activation='sigmoid'))\n",
    "\n",
    "# Set the embedding matrix for the Embedding layer\n",
    "model.layers[0].set_weights([embedding_matrix])\n",
    "model.layers[0].trainable = False\n",
    "\n",
    "# Compile and train the model\n",
    "model.compile(optimizer='rmsprop', loss='binary_crossentropy', metrics=['accuracy'])\n",
    "early_stop = EarlyStopping(monitor='val_accuracy', patience=10)\n",
    "history = model.fit(train_data, y_train, epochs=50, batch_size=512, validation_data=(test_data, y_test), callbacks=[early_stop])\n",
    "\n",
    "# Evaluate the model on the test set\n",
    "results = model.evaluate(test_data, y_test)\n",
    "print('Test accuracy:', results[1])\n"
   ]
  },
  {
   "cell_type": "code",
   "execution_count": null,
   "metadata": {},
   "outputs": [],
   "source": [
    "# Other implim trying to find the best parameters\n",
    "model = Sequential()\n",
    "model.add(Embedding(10000, 100, input_length=256))\n",
    "model.add(Conv1D(32, 5, activation='relu'))\n",
    "model.add(MaxPooling1D(pool_size=4))\n",
    "model.add(LSTM(100))\n",
    "model.add(Dense(1, activation='sigmoid'))\n"
   ]
  }
 ],
 "metadata": {
  "kernelspec": {
   "display_name": "venv",
   "language": "python",
   "name": "python3"
  },
  "language_info": {
   "codemirror_mode": {
    "name": "ipython",
    "version": 3
   },
   "file_extension": ".py",
   "mimetype": "text/x-python",
   "name": "python",
   "nbconvert_exporter": "python",
   "pygments_lexer": "ipython3",
   "version": "3.9.13"
  },
  "orig_nbformat": 4
 },
 "nbformat": 4,
 "nbformat_minor": 2
}
